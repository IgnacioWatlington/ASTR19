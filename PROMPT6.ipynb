{
 "cells": [
  {
   "cell_type": "code",
   "execution_count": 6,
   "id": "1441841d-c421-4110-b1b4-4a41f6cdb878",
   "metadata": {},
   "outputs": [],
   "source": [
    "import numpy as np \n"
   ]
  },
  {
   "cell_type": "markdown",
   "id": "e443454e-4b71-4dfb-9e40-02e2661f0ad4",
   "metadata": {},
   "source": [
    "defines sine and cosine functions\\"
   ]
  },
  {
   "cell_type": "code",
   "execution_count": 2,
   "id": "07c55ce8-01f7-4f83-8117-c15ef0d4602b",
   "metadata": {},
   "outputs": [],
   "source": [
    "def sin(x):\n",
    "    return np.sin(x)\n",
    "\n",
    "def cos_x(x):\n",
    "    return np.cos(x)"
   ]
  },
  {
   "cell_type": "markdown",
   "id": "fb1c360b-628d-4ecd-a353-cced4416c7b7",
   "metadata": {},
   "source": [
    "tabulates sine and cosine array values "
   ]
  },
  {
   "cell_type": "code",
   "execution_count": 3,
   "id": "fdd2bbcb-13cf-4ea2-9e8b-a21058afce66",
   "metadata": {},
   "outputs": [],
   "source": [
    "x_values = np.linspace(0, 2, 1000)\n",
    "sin_results = np.sin(x_values)\n",
    "cos_results = np.cos(x_values)\n",
    "tab_results = np.vstack((x_values, sin_results, cos_results)).T"
   ]
  },
  {
   "cell_type": "code",
   "execution_count": 4,
   "id": "179192a5-ce9a-4bfe-8e86-3cb2dc16fcc9",
   "metadata": {},
   "outputs": [
    {
     "name": "stdout",
     "output_type": "stream",
     "text": [
      "[[ 0.          0.          1.        ]\n",
      " [ 0.002002    0.002002    0.999998  ]\n",
      " [ 0.004004    0.00400399  0.99999198]\n",
      " ...\n",
      " [ 1.995996    0.91095639 -0.41250268]\n",
      " [ 1.997998    0.91012873 -0.41432559]\n",
      " [ 2.          0.90929743 -0.41614684]]\n"
     ]
    }
   ],
   "source": [
    "print(tab_results)"
   ]
  },
  {
   "cell_type": "code",
   "execution_count": 5,
   "id": "d521f347-75bc-4f3e-b2cc-5203673eaed7",
   "metadata": {},
   "outputs": [
    {
     "name": "stdout",
     "output_type": "stream",
     "text": [
      "x         sin(x)         cos(x)         \n",
      "0.0       0.0            1.0            \n",
      "0.0020020020020020020.00200200066466092340.9999979959946613\n",
      "0.0040040040040040040.0040039933052818070.9999919839866774\n",
      "0.0060060060060060060.00600596989785477050.9999819640001444\n",
      "0.0080080080080080080.0080079224184362550.9999679360752225\n",
      "0.010010010010010010.0100098428431791840.9999499002681359\n",
      "0.0120120120120120120.0120117231483651190.9999278566511721\n",
      "0.0140140140140140140.0140135553104364220.9999018053126824\n",
      "0.0160160160160160160.0160153313060284150.9998717463570806\n",
      "0.0180180180180180180.018017043112001530.9998376799048435\n"
     ]
    }
   ],
   "source": [
    "\n",
    "print(f\"{'x':<10}{'sin(x)':<15}{'cos(x)':<15}\")\n",
    "for i in range(10):\n",
    "    print(f\"{x_values[i]:<10}{sin_results[i]:<15}{cos_results[i]:<15}\")\n"
   ]
  },
  {
   "cell_type": "code",
   "execution_count": null,
   "id": "fced859e-d6ec-463e-8e73-c4db3f490f05",
   "metadata": {},
   "outputs": [],
   "source": []
  },
  {
   "cell_type": "code",
   "execution_count": null,
   "id": "505cc287-42ea-4097-a2bd-55804a4a989e",
   "metadata": {},
   "outputs": [],
   "source": []
  }
 ],
 "metadata": {
  "kernelspec": {
   "display_name": "Python 3 (ipykernel)",
   "language": "python",
   "name": "python3"
  },
  "language_info": {
   "codemirror_mode": {
    "name": "ipython",
    "version": 3
   },
   "file_extension": ".py",
   "mimetype": "text/x-python",
   "name": "python",
   "nbconvert_exporter": "python",
   "pygments_lexer": "ipython3",
   "version": "3.11.5"
  }
 },
 "nbformat": 4,
 "nbformat_minor": 5
}
